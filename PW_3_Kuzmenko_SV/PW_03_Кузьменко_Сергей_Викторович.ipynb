{
  "nbformat": 4,
  "nbformat_minor": 0,
  "metadata": {
    "colab": {
      "provenance": []
    },
    "kernelspec": {
      "name": "python3",
      "display_name": "Python 3"
    },
    "language_info": {
      "name": "python"
    }
  },
  "cells": [
    {
      "cell_type": "markdown",
      "source": [
        "# Практическая работа 3. Программные средства консолидации данных.\n",
        "# Кузьменко Сергей БД-231м\n",
        "\n",
        "## Цель работы\n",
        "Освоить практические навыки консолидации данных из различных источников с использованием Python и библиотеки pandas.\n",
        "\n",
        "## Задачи\n",
        "1. Загрузить данные из различных источников (CSV, Excel, JSON).\n",
        "2. Провести предварительную обработку и очистку данных.\n",
        "3. Объединить данные из разных источников.\n",
        "4. Выполнить агрегацию и трансформацию данных.\n",
        "5. Сохранить консолидированные данные в новый файл.\n",
        "\n",
        "## Необходимое программное обеспечение\n",
        "- Python 3.x\n",
        "- Библиотеки: pandas, numpy, matplotlib\n",
        "\n",
        "## Исходные данные\n",
        "- `sales_2022.csv`: данные о продажах за 2022 год\n",
        "- `sales_2023.xlsx`: данные о продажах за 2023 год\n",
        "- `products.json`: информация о продуктах\n"
      ],
      "metadata": {
        "id": "RGcbZxxOH5EH"
      }
    },
    {
      "cell_type": "markdown",
      "source": [
        "## Ход работы"
      ],
      "metadata": {
        "id": "rrCNKG2ZII1s"
      }
    },
    {
      "cell_type": "markdown",
      "source": [
        "Процесс создания тестовых данных для файлов\n",
        "- `sales_2022.csv`\n",
        "- `sales_2023.xlsx`\n",
        "- `products.json`\n"
      ],
      "metadata": {
        "id": "wKifPGN0ILnu"
      }
    },
    {
      "cell_type": "code",
      "execution_count": 1,
      "metadata": {
        "id": "juFehJqiH1ET"
      },
      "outputs": [],
      "source": [
        "import pandas as pd\n",
        "import numpy as np\n",
        "import json\n",
        "from datetime import datetime, timedelta\n",
        "import random\n"
      ]
    },
    {
      "cell_type": "code",
      "source": [
        "# Функция для генерации случайной даты\n",
        "def random_date(start, end):\n",
        "    return start + timedelta(\n",
        "        seconds=random.randint(0, int((end - start).total_seconds()))\n",
        "    )"
      ],
      "metadata": {
        "id": "3MMqaYqIImQ8"
      },
      "execution_count": 2,
      "outputs": []
    },
    {
      "cell_type": "markdown",
      "source": [
        "1. Создание products.json:\n",
        "   - Мы определяем список категорий продуктов.\n",
        "   - Генерируем 100 уникальных продуктов с полями: product_id, name, category и price.\n",
        "   - Каждому продукту присваивается случайная категория и цена.\n",
        "   - Данные сохраняются в формате JSON с отступами для удобства чтения.\n"
      ],
      "metadata": {
        "id": "j87BEfeLJA3p"
      }
    },
    {
      "cell_type": "code",
      "source": [
        "# Генерация данных о продуктах\n",
        "product_categories = ['Смартфон', 'Планшет', 'Ноутбук', 'Wi_Fi_роутер', 'Телефизор']\n",
        "products = []\n",
        "\n",
        "for i in range(100):  # Генерируем 100 продуктов\n",
        "    product = {\n",
        "        'product_id': f'P{i:03d}',\n",
        "        'name': f'Продукт {i}',\n",
        "        'category': random.choice(product_categories),\n",
        "        'price': round(random.uniform(10, 1000), 2)\n",
        "    }\n",
        "    products.append(product)\n",
        "\n",
        "# Сохранение данных о продуктах в JSON\n",
        "with open('products.json', 'w', encoding='utf-8') as f:\n",
        "    json.dump(products, f, ensure_ascii=False, indent=4)\n",
        "\n",
        "print(\"Файл products.json создан\")\n",
        "\n"
      ],
      "metadata": {
        "id": "9F5dwllZIqqM",
        "colab": {
          "base_uri": "https://localhost:8080/"
        },
        "outputId": "34fc9b08-4b25-4b79-f6dd-0f1c77ff7bd3"
      },
      "execution_count": 4,
      "outputs": [
        {
          "output_type": "stream",
          "name": "stdout",
          "text": [
            "Файл products.json создан\n"
          ]
        }
      ]
    },
    {
      "cell_type": "markdown",
      "source": [
        "2. Создание sales_2022.csv:\n",
        "   - Определяем период продаж с 1 января по 31 декабря 2022 года.\n",
        "   - Генерируем 10000 записей о продажах.\n",
        "   - Для каждой продажи случайным образом выбирается продукт из списка products.\n",
        "   - Генерируется случайная дата продажи в пределах 2022 года.\n",
        "   - Количество проданных единиц выбирается случайно от 1 до 10.\n",
        "   - Сумма продажи рассчитывается как произведение цены продукта на количество.\n",
        "   - Подмешаем пустые значения\n",
        "   - Данные сохраняются в CSV формате.\n"
      ],
      "metadata": {
        "id": "2XlUNgeUJEod"
      }
    },
    {
      "cell_type": "code",
      "source": [
        "# Генерация данных о продажах за 2022 год\n",
        "sales_2022 = []\n",
        "start_date = datetime(2022, 1, 1)\n",
        "end_date = datetime(2022, 12, 31)\n",
        "\n",
        "for _ in range(15000):  # Генерируем 15000 записей о продажах\n",
        "    product = random.choice(products)\n",
        "    sale = {\n",
        "        'date': random_date(start_date, end_date).strftime('%Y-%m-%d'),\n",
        "        'product_id': product['product_id'],\n",
        "        'quantity': random.randint(1, 10),\n",
        "        'sales': round(product['price'] * random.randint(1, 10), 2)\n",
        "    }\n",
        "    sales_2022.append(sale)\n",
        "\n",
        "df_2022 = pd.DataFrame(sales_2022)\n",
        "\n",
        "# Добавляем пустые значения\n",
        "def introduce_missing_values(df, missing_percentage=0.1):\n",
        "    total_values = df.size\n",
        "    missing_count = int(total_values * missing_percentage)\n",
        "    for _ in range(missing_count):\n",
        "        idx = random.randint(0, df.shape[0] - 1)\n",
        "        col = random.choice(df.columns)\n",
        "        df.at[idx, col] = np.nan\n",
        "\n",
        "introduce_missing_values(df_2022, missing_percentage=0.1)\n",
        "\n",
        "\n",
        "df_2022.to_csv('sales_2022.csv', index=False)\n",
        "print(\"Файл sales_2022.csv создан\")\n"
      ],
      "metadata": {
        "id": "xO9l1LsCIwOX",
        "colab": {
          "base_uri": "https://localhost:8080/"
        },
        "outputId": "6b27d21b-214e-4c49-d841-360ed68c160b"
      },
      "execution_count": 17,
      "outputs": [
        {
          "output_type": "stream",
          "name": "stdout",
          "text": [
            "Файл sales_2022.csv создан\n"
          ]
        }
      ]
    },
    {
      "cell_type": "markdown",
      "source": [
        "3. Создание sales_2023.xlsx:\n",
        "   - Процесс аналогичен созданию файла за 2022 год, но с некоторыми отличиями:\n",
        "   - Период продаж ограничен с 1 января по 30 сентября 2023 года (предполагая, что данные неполные).\n",
        "   - Генерируется большее количество записей (12000) для имитации роста продаж.\n",
        "   - Максимальное количество проданных единиц увеличено до 15 для создания вариативности.\n",
        "   - Данные сохраняются в формате Excel (xlsx).\n"
      ],
      "metadata": {
        "id": "tqqk2XtSJGzV"
      }
    },
    {
      "cell_type": "code",
      "source": [
        "# Генерация данных о продажах за 2023 год\n",
        "sales_2023 = []\n",
        "start_date = datetime(2023, 1, 1)\n",
        "end_date = datetime(2023, 9, 30)  # Предположим, что данные есть только до сентября 2023\n",
        "\n",
        "for _ in range(20000):  # Генерируем 20000 записей о продажах (больше, чем в 2022)\n",
        "    product = random.choice(products)\n",
        "    sale = {\n",
        "        'date': random_date(start_date, end_date).strftime('%Y-%m-%d'),\n",
        "        'product_id': product['product_id'],\n",
        "        'quantity': random.randint(1, 15),  # Увеличим максимальное количество\n",
        "        'sales': round(product['price'] * random.randint(1, 15), 2)\n",
        "    }\n",
        "    sales_2023.append(sale)\n",
        "\n",
        "df_2023 = pd.DataFrame(sales_2023)\n",
        "\n",
        "introduce_missing_values(df_2023, missing_percentage=0.05)\n",
        "\n",
        "df_2023.to_excel('sales_2023.xlsx', index=False)\n",
        "print(\"Файл sales_2023.xlsx создан\")\n"
      ],
      "metadata": {
        "id": "zN8ZNgVMIzxG",
        "colab": {
          "base_uri": "https://localhost:8080/"
        },
        "outputId": "04013104-946d-48ef-c7c2-c3c40466e4cb"
      },
      "execution_count": 9,
      "outputs": [
        {
          "output_type": "stream",
          "name": "stdout",
          "text": [
            "Файл sales_2023.xlsx создан\n"
          ]
        }
      ]
    },
    {
      "cell_type": "code",
      "source": [
        "ls"
      ],
      "metadata": {
        "id": "7z6rGsrVI5ps",
        "colab": {
          "base_uri": "https://localhost:8080/"
        },
        "outputId": "d381e979-cf72-4a61-f4c4-87e08769e8dc"
      },
      "execution_count": 10,
      "outputs": [
        {
          "output_type": "stream",
          "name": "stdout",
          "text": [
            "products.json  sales_2022.csv  sales_2023.xlsx  \u001b[0m\u001b[01;34msample_data\u001b[0m/\n"
          ]
        }
      ]
    },
    {
      "cell_type": "markdown",
      "source": [
        "Особенности сгенерированных данных:\n",
        "- Все файлы связаны между собой через поле product_id.\n",
        "- Данные имеют реалистичную структуру и вариативность.\n",
        "- В данных присутствуют различные типы полей: строковые (категории, ID), числовые (цены, количество), даты."
      ],
      "metadata": {
        "id": "WMqOi45ZJKPW"
      }
    },
    {
      "cell_type": "markdown",
      "source": [
        "### Шаг 1: Подготовка рабочей среды\n",
        "\n",
        "1. Импортируйте необходимые библиотеки:\n",
        "\n"
      ],
      "metadata": {
        "id": "TBG7soLzJclT"
      }
    },
    {
      "cell_type": "code",
      "source": [
        "import pandas as pd\n",
        "import numpy as np\n",
        "import matplotlib.pyplot as plt"
      ],
      "metadata": {
        "id": "tTq0rcZtJNqG"
      },
      "execution_count": 11,
      "outputs": []
    },
    {
      "cell_type": "markdown",
      "source": [
        "### Шаг 2: Загрузка данных\n",
        "1. Загрузите данные из CSV-файла:"
      ],
      "metadata": {
        "id": "dqlsCfijJoMl"
      }
    },
    {
      "cell_type": "code",
      "source": [
        "df_2022 = pd.read_csv('sales_2022.csv')\n",
        "print(\"Данные за 2022 год:\")\n",
        "print(df_2022.head())"
      ],
      "metadata": {
        "id": "1tdaCp5GJo95",
        "colab": {
          "base_uri": "https://localhost:8080/"
        },
        "outputId": "03eeb831-76db-45c5-bf07-58e1e2f21085"
      },
      "execution_count": 18,
      "outputs": [
        {
          "output_type": "stream",
          "name": "stdout",
          "text": [
            "Данные за 2022 год:\n",
            "         date product_id  quantity    sales\n",
            "0  2022-01-24       P098       9.0  7580.40\n",
            "1  2022-01-28       P046       1.0  2905.11\n",
            "2  2022-09-18       P089       1.0   530.19\n",
            "3  2022-01-27       P076       6.0  3409.70\n",
            "4  2022-11-27       P031       3.0  3932.20\n"
          ]
        }
      ]
    },
    {
      "cell_type": "markdown",
      "source": [
        "2. Загрузите данные из Excel-файла:"
      ],
      "metadata": {
        "id": "Ly23psrvJxBH"
      }
    },
    {
      "cell_type": "code",
      "source": [
        "df_2023 = pd.read_excel('sales_2023.xlsx')\n",
        "print(\"\\nДанные за 2023 год:\")\n",
        "print(df_2023.head())"
      ],
      "metadata": {
        "id": "D64JfCtrJz3O",
        "colab": {
          "base_uri": "https://localhost:8080/"
        },
        "outputId": "2adc5449-5e71-4541-922a-bdbddd05cf3e"
      },
      "execution_count": 13,
      "outputs": [
        {
          "output_type": "stream",
          "name": "stdout",
          "text": [
            "\n",
            "Данные за 2023 год:\n",
            "         date product_id  quantity    sales\n",
            "0  2023-07-08       P023      12.0  3212.22\n",
            "1  2023-01-24       P027      13.0    54.77\n",
            "2  2023-09-28       P050      11.0      NaN\n",
            "3  2023-01-24       P037       1.0  4877.80\n",
            "4  2023-08-27       P088       5.0  1868.79\n"
          ]
        }
      ]
    },
    {
      "cell_type": "markdown",
      "source": [
        "3. Загрузите данные из JSON-файла:"
      ],
      "metadata": {
        "id": "50Rl1R2IJ3MI"
      }
    },
    {
      "cell_type": "code",
      "source": [
        "df_products = pd.read_json('products.json')\n",
        "print(\"\\nДанные о продуктах:\")\n",
        "print(df_products.head())"
      ],
      "metadata": {
        "id": "IuuD1-YXJ49W",
        "colab": {
          "base_uri": "https://localhost:8080/"
        },
        "outputId": "f23ee398-694b-4053-dc90-0a5581917ce4"
      },
      "execution_count": 14,
      "outputs": [
        {
          "output_type": "stream",
          "name": "stdout",
          "text": [
            "\n",
            "Данные о продуктах:\n",
            "  product_id       name      category   price\n",
            "0       P000  Продукт 0      Смартфон  140.36\n",
            "1       P001  Продукт 1     Телефизор  240.30\n",
            "2       P002  Продукт 2       Ноутбук  828.42\n",
            "3       P003  Продукт 3      Смартфон  696.58\n",
            "4       P004  Продукт 4  Wi_Fi_роутер  367.47\n"
          ]
        }
      ]
    },
    {
      "cell_type": "markdown",
      "source": [
        "### Шаг 3: Предварительная обработка и очистка данных\n",
        "1. Проверьте наличие пропущенных значений:"
      ],
      "metadata": {
        "id": "fKqey5q6J9op"
      }
    },
    {
      "cell_type": "code",
      "source": [
        "print(\"\\nПропущенные значения:\")\n",
        "print(df_2022.isnull().sum())\n",
        "print(df_2023.isnull().sum())\n",
        "print(df_products.isnull().sum())"
      ],
      "metadata": {
        "id": "glHIeyB9J-aJ",
        "colab": {
          "base_uri": "https://localhost:8080/"
        },
        "outputId": "e90d09a6-0098-43c7-d0ce-a22777ce6c62"
      },
      "execution_count": 19,
      "outputs": [
        {
          "output_type": "stream",
          "name": "stdout",
          "text": [
            "\n",
            "Пропущенные значения:\n",
            "date          1383\n",
            "product_id    1424\n",
            "quantity      1426\n",
            "sales         1465\n",
            "dtype: int64\n",
            "date          1012\n",
            "product_id     972\n",
            "quantity       933\n",
            "sales          995\n",
            "dtype: int64\n",
            "product_id    0\n",
            "name          0\n",
            "category      0\n",
            "price         0\n",
            "dtype: int64\n"
          ]
        }
      ]
    },
    {
      "cell_type": "markdown",
      "source": [
        "2. Обработайте пропущенные значения:"
      ],
      "metadata": {
        "id": "r6dR-JRlKD5H"
      }
    },
    {
      "cell_type": "code",
      "source": [
        "df_2022 = df_2022.dropna(subset=['date', 'product_id', 'quantity'])\n",
        "df_2022['sales'].fillna(df_2022['sales'].mean(), inplace=True)"
      ],
      "metadata": {
        "colab": {
          "base_uri": "https://localhost:8080/"
        },
        "id": "EWzkO1fuNsah",
        "outputId": "3dd43484-facd-4d9a-f2b7-7e12242a7c88"
      },
      "execution_count": 20,
      "outputs": [
        {
          "output_type": "stream",
          "name": "stderr",
          "text": [
            "<ipython-input-20-49afe1a581bd>:2: SettingWithCopyWarning: \n",
            "A value is trying to be set on a copy of a slice from a DataFrame\n",
            "\n",
            "See the caveats in the documentation: https://pandas.pydata.org/pandas-docs/stable/user_guide/indexing.html#returning-a-view-versus-a-copy\n",
            "  df_2022['sales'].fillna(df_2022['sales'].mean(), inplace=True)\n"
          ]
        }
      ]
    },
    {
      "cell_type": "code",
      "source": [
        "df_2022.info()"
      ],
      "metadata": {
        "colab": {
          "base_uri": "https://localhost:8080/"
        },
        "id": "LWpjaCXqOQJW",
        "outputId": "8cb227e7-e882-4dc3-b543-ebb32533e871"
      },
      "execution_count": 21,
      "outputs": [
        {
          "output_type": "stream",
          "name": "stdout",
          "text": [
            "<class 'pandas.core.frame.DataFrame'>\n",
            "Index: 11161 entries, 0 to 14999\n",
            "Data columns (total 4 columns):\n",
            " #   Column      Non-Null Count  Dtype  \n",
            "---  ------      --------------  -----  \n",
            " 0   date        11161 non-null  object \n",
            " 1   product_id  11161 non-null  object \n",
            " 2   quantity    11161 non-null  float64\n",
            " 3   sales       11161 non-null  float64\n",
            "dtypes: float64(2), object(2)\n",
            "memory usage: 436.0+ KB\n"
          ]
        }
      ]
    },
    {
      "cell_type": "code",
      "source": [
        "df_2023 = df_2023.dropna(subset=['date', 'product_id', 'quantity'])\n",
        "df_2023['sales'] = df_2023['sales'].fillna(df_2023['sales'].mean())"
      ],
      "metadata": {
        "colab": {
          "base_uri": "https://localhost:8080/"
        },
        "id": "vnDUkGXCOVlq",
        "outputId": "ca51bc1d-a27a-4bb1-d244-0a762107424e"
      },
      "execution_count": 22,
      "outputs": [
        {
          "output_type": "stream",
          "name": "stderr",
          "text": [
            "<ipython-input-22-f566a6157bae>:2: SettingWithCopyWarning: \n",
            "A value is trying to be set on a copy of a slice from a DataFrame.\n",
            "Try using .loc[row_indexer,col_indexer] = value instead\n",
            "\n",
            "See the caveats in the documentation: https://pandas.pydata.org/pandas-docs/stable/user_guide/indexing.html#returning-a-view-versus-a-copy\n",
            "  df_2023['sales'] = df_2023['sales'].fillna(df_2023['sales'].mean())\n"
          ]
        }
      ]
    },
    {
      "cell_type": "code",
      "source": [
        "df_2023.info()"
      ],
      "metadata": {
        "id": "7q2L1CNdKIHe",
        "colab": {
          "base_uri": "https://localhost:8080/"
        },
        "outputId": "2d9a2e50-9196-4325-fcd0-f799295a21d9"
      },
      "execution_count": 23,
      "outputs": [
        {
          "output_type": "stream",
          "name": "stdout",
          "text": [
            "<class 'pandas.core.frame.DataFrame'>\n",
            "Index: 17239 entries, 0 to 19999\n",
            "Data columns (total 4 columns):\n",
            " #   Column      Non-Null Count  Dtype  \n",
            "---  ------      --------------  -----  \n",
            " 0   date        17239 non-null  object \n",
            " 1   product_id  17239 non-null  object \n",
            " 2   quantity    17239 non-null  float64\n",
            " 3   sales       17239 non-null  float64\n",
            "dtypes: float64(2), object(2)\n",
            "memory usage: 673.4+ KB\n"
          ]
        }
      ]
    },
    {
      "cell_type": "markdown",
      "source": [
        "Обработали пустые значения"
      ],
      "metadata": {
        "id": "ODz7yPj7Opxg"
      }
    },
    {
      "cell_type": "markdown",
      "source": [
        "3. Приведите названия столбцов к единому формату:"
      ],
      "metadata": {
        "id": "K-EIo6tuKLf6"
      }
    },
    {
      "cell_type": "code",
      "source": [
        "df_2022.columns = df_2022.columns.str.lower()\n",
        "df_2023.columns = df_2023.columns.str.lower()\n",
        "df_products.columns = df_products.columns.str.lower()\n"
      ],
      "metadata": {
        "id": "4v8TLMVlKNYh"
      },
      "execution_count": 24,
      "outputs": []
    },
    {
      "cell_type": "markdown",
      "source": [
        "### Шаг 4: Объединение данных\n",
        "1. Объедините данные о продажах за 2022 и 2023 годы:"
      ],
      "metadata": {
        "id": "FHAyqq9TKPs_"
      }
    },
    {
      "cell_type": "code",
      "source": [
        "df_sales = pd.concat([df_2022, df_2023], ignore_index=True)\n",
        "print(\"\\nОбъединенные данные о продажах:\")\n",
        "print(df_sales.head())"
      ],
      "metadata": {
        "id": "SqwD7r4aKRj0",
        "colab": {
          "base_uri": "https://localhost:8080/"
        },
        "outputId": "0c6ae62f-ba35-4d03-a9de-a977a67b330d"
      },
      "execution_count": 25,
      "outputs": [
        {
          "output_type": "stream",
          "name": "stdout",
          "text": [
            "\n",
            "Объединенные данные о продажах:\n",
            "         date product_id  quantity    sales\n",
            "0  2022-01-24       P098       9.0  7580.40\n",
            "1  2022-01-28       P046       1.0  2905.11\n",
            "2  2022-09-18       P089       1.0   530.19\n",
            "3  2022-01-27       P076       6.0  3409.70\n",
            "4  2022-11-27       P031       3.0  3932.20\n"
          ]
        }
      ]
    },
    {
      "cell_type": "markdown",
      "source": [
        "2. Добавьте информацию о продуктах к данным о продажах:"
      ],
      "metadata": {
        "id": "vVouyvVdKW2v"
      }
    },
    {
      "cell_type": "code",
      "source": [
        "df_consolidated = pd.merge(df_sales, df_products, on='product_id', how='left')\n",
        "print(\"\\nКонсолидированные данные:\")\n",
        "print(df_consolidated.head())"
      ],
      "metadata": {
        "id": "HYHN2c-oKYV1",
        "colab": {
          "base_uri": "https://localhost:8080/"
        },
        "outputId": "fd985370-7649-476b-9208-2aeba0e5361b"
      },
      "execution_count": 26,
      "outputs": [
        {
          "output_type": "stream",
          "name": "stdout",
          "text": [
            "\n",
            "Консолидированные данные:\n",
            "         date product_id  quantity    sales        name   category   price\n",
            "0  2022-01-24       P098       9.0  7580.40  Продукт 98  Телефизор  758.04\n",
            "1  2022-01-28       P046       1.0  2905.11  Продукт 46    Планшет  322.79\n",
            "2  2022-09-18       P089       1.0   530.19  Продукт 89    Ноутбук  530.19\n",
            "3  2022-01-27       P076       6.0  3409.70  Продукт 76   Смартфон  487.10\n",
            "4  2022-11-27       P031       3.0  3932.20  Продукт 31    Ноутбук  393.22\n"
          ]
        }
      ]
    },
    {
      "cell_type": "markdown",
      "source": [
        "### Шаг 5: Агрегация и трансформация данных\n",
        "1. Рассчитайте общую сумму продаж по категориям продуктов:"
      ],
      "metadata": {
        "id": "jYpMB013KbEx"
      }
    },
    {
      "cell_type": "code",
      "source": [
        "sales_by_category = df_consolidated.groupby('category')['sales'].sum().sort_values(ascending=False)\n",
        "print(\"\\nОбщая сумма продаж по категориям:\")\n",
        "print(sales_by_category)"
      ],
      "metadata": {
        "id": "POzC1z2zKcmt",
        "colab": {
          "base_uri": "https://localhost:8080/"
        },
        "outputId": "f8e83031-3959-48c5-9127-0e6e61e2e5e3"
      },
      "execution_count": 27,
      "outputs": [
        {
          "output_type": "stream",
          "name": "stdout",
          "text": [
            "\n",
            "Общая сумма продаж по категориям:\n",
            "category\n",
            "Смартфон        2.864550e+07\n",
            "Wi_Fi_роутер    2.417920e+07\n",
            "Телефизор       2.126884e+07\n",
            "Ноутбук         2.003118e+07\n",
            "Планшет         1.614475e+07\n",
            "Name: sales, dtype: float64\n"
          ]
        }
      ]
    },
    {
      "cell_type": "markdown",
      "source": [
        "2. Создайте новый столбец с годом продажи:"
      ],
      "metadata": {
        "id": "4EPtLqJbKj9R"
      }
    },
    {
      "cell_type": "code",
      "source": [
        "df_consolidated['year'] = pd.to_datetime(df_consolidated['date']).dt.year"
      ],
      "metadata": {
        "id": "aecPAqZJKkif"
      },
      "execution_count": 28,
      "outputs": []
    },
    {
      "cell_type": "markdown",
      "source": [
        "3. Рассчитайте среднюю сумму продаж по годам:"
      ],
      "metadata": {
        "id": "3Mo6ehi4KmpN"
      }
    },
    {
      "cell_type": "code",
      "source": [
        "avg_sales_by_year = df_consolidated.groupby('year')['sales'].mean()\n",
        "print(\"\\nСредняя сумма продаж по годам:\")\n",
        "print(avg_sales_by_year)"
      ],
      "metadata": {
        "id": "VWKgKHJDKomv",
        "colab": {
          "base_uri": "https://localhost:8080/"
        },
        "outputId": "7f689d3a-3a61-49b0-9239-fbde2613426c"
      },
      "execution_count": 29,
      "outputs": [
        {
          "output_type": "stream",
          "name": "stdout",
          "text": [
            "\n",
            "Средняя сумма продаж по годам:\n",
            "year\n",
            "2022    3042.078062\n",
            "2023    4426.987088\n",
            "Name: sales, dtype: float64\n"
          ]
        }
      ]
    },
    {
      "cell_type": "markdown",
      "source": [
        "### Шаг 6: Визуализация данных\n",
        "1. Создайте график продаж по категориям:"
      ],
      "metadata": {
        "id": "9FoMjqupKsIf"
      }
    },
    {
      "cell_type": "code",
      "source": [
        "plt.figure(figsize=(12, 6))\n",
        "sales_by_category.plot(kind='bar')\n",
        "plt.title('Общая сумма продаж по категориям')\n",
        "plt.xlabel('Категория')\n",
        "plt.ylabel('Сумма продаж')\n",
        "plt.tight_layout()\n",
        "plt.savefig('sales_by_category.png')\n"
      ],
      "metadata": {
        "id": "XY4aSq7MKsm0",
        "colab": {
          "base_uri": "https://localhost:8080/",
          "height": 545
        },
        "outputId": "8f202054-f7b1-4d7d-ced4-cd503e295c9e"
      },
      "execution_count": 30,
      "outputs": [
        {
          "output_type": "display_data",
          "data": {
            "text/plain": [
              "<Figure size 1200x600 with 1 Axes>"
            ],
            "image/png": "[encoded data removed]"
          },
          "metadata": {}
        }
      ]
    },
    {
      "cell_type": "markdown",
      "source": [
        "2. Создайте график средних продаж по годам:"
      ],
      "metadata": {
        "id": "KG06oSx0K5iu"
      }
    },
    {
      "cell_type": "code",
      "source": [
        "plt.figure(figsize=(10, 5))\n",
        "avg_sales_by_year.plot(kind='line', marker='o')\n",
        "plt.title('Средняя сумма продаж по годам')\n",
        "plt.xlabel('Год')\n",
        "plt.ylabel('Средняя сумма продаж')\n",
        "plt.tight_layout()\n",
        "plt.savefig('avg_sales_by_year.png')"
      ],
      "metadata": {
        "id": "qwneeFeAK7vc",
        "colab": {
          "base_uri": "https://localhost:8080/",
          "height": 507
        },
        "outputId": "a79e8601-49c6-4b14-e77b-19ef987d8925"
      },
      "execution_count": 31,
      "outputs": [
        {
          "output_type": "display_data",
          "data": {
            "text/plain": [
              "<Figure size 1000x500 with 1 Axes>"
            ],
            "image/png": "[encoded data removed]"
          },
          "metadata": {}
        }
      ]
    },
    {
      "cell_type": "markdown",
      "source": [
        "### Шаг 7: Сохранение консолидированных данных\n",
        "Сохраните консолидированные данные в CSV-файл:"
      ],
      "metadata": {
        "id": "UuE37VJ2LA0O"
      }
    },
    {
      "cell_type": "code",
      "source": [
        "df_consolidated.to_csv('consolidated_sales_data.csv', index=False)\n",
        "print(\"\\nКонсолидированные данные сохранены в файл 'consolidated_sales_data.csv'\")"
      ],
      "metadata": {
        "id": "58lohakrLDUW",
        "colab": {
          "base_uri": "https://localhost:8080/"
        },
        "outputId": "88dc5f6d-fa49-46cb-bb7b-ce024fd61b5a"
      },
      "execution_count": 32,
      "outputs": [
        {
          "output_type": "stream",
          "name": "stdout",
          "text": [
            "\n",
            "Консолидированные данные сохранены в файл 'consolidated_sales_data.csv'\n"
          ]
        }
      ]
    },
    {
      "cell_type": "code",
      "source": [
        "from google.colab import files\n",
        "\n",
        "# Скачиваем CSV файл\n",
        "files.download('consolidated_sales_data.csv')"
      ],
      "metadata": {
        "id": "tpJ5Y-7RLWp6",
        "colab": {
          "base_uri": "https://localhost:8080/",
          "height": 17
        },
        "outputId": "0c1ff63a-d4e1-492b-c75c-c43e6d430bfe"
      },
      "execution_count": 33,
      "outputs": [
        {
          "output_type": "display_data",
          "data": {
            "text/plain": [
              "<IPython.core.display.Javascript object>"
            ],
            "application/javascript": [
              "\n",
              "    async function download(id, filename, size) {\n",
              "      if (!google.colab.kernel.accessAllowed) {\n",
              "        return;\n",
              "      }\n",
              "      const div = document.createElement('div');\n",
              "      const label = document.createElement('label');\n",
              "      label.textContent = `Downloading \"${filename}\": `;\n",
              "      div.appendChild(label);\n",
              "      const progress = document.createElement('progress');\n",
              "      progress.max = size;\n",
              "      div.appendChild(progress);\n",
              "      document.body.appendChild(div);\n",
              "\n",
              "      const buffers = [];\n",
              "      let downloaded = 0;\n",
              "\n",
              "      const channel = await google.colab.kernel.comms.open(id);\n",
              "      // Send a message to notify the kernel that we're ready.\n",
              "      channel.send({})\n",
              "\n",
              "      for await (const message of channel.messages) {\n",
              "        // Send a message to notify the kernel that we're ready.\n",
              "        channel.send({})\n",
              "        if (message.buffers) {\n",
              "          for (const buffer of message.buffers) {\n",
              "            buffers.push(buffer);\n",
              "            downloaded += buffer.byteLength;\n",
              "            progress.value = downloaded;\n",
              "          }\n",
              "        }\n",
              "      }\n",
              "      const blob = new Blob(buffers, {type: 'application/binary'});\n",
              "      const a = document.createElement('a');\n",
              "      a.href = window.URL.createObjectURL(blob);\n",
              "      a.download = filename;\n",
              "      div.appendChild(a);\n",
              "      a.click();\n",
              "      div.remove();\n",
              "    }\n",
              "  "
            ]
          },
          "metadata": {}
        },
        {
          "output_type": "display_data",
          "data": {
            "text/plain": [
              "<IPython.core.display.Javascript object>"
            ],
            "application/javascript": [
              "download(\"download_6ed11b63-15d9-4cc9-8ffc-52f3ffd2cc60\", \"consolidated_sales_data.csv\", 2143637)"
            ]
          },
          "metadata": {}
        }
      ]
    },
    {
      "cell_type": "markdown",
      "source": [
        "**ИТОГ:** Сгенерировали данные по продуктам, продажам за 2022 и 2023 год c учетом пропущенных данных и провели консолидацию (соединили данные по продажам). Далее визуализировали данные. Получили увеличение продаж в 2023 г."
      ],
      "metadata": {
        "id": "9AZhxIJgPJzW"
      }
    }
  ]
}